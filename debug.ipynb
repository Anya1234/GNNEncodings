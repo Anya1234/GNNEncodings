{
 "cells": [
  {
   "cell_type": "code",
   "execution_count": 1,
   "metadata": {},
   "outputs": [
    {
     "name": "stderr",
     "output_type": "stream",
     "text": [
      "/home/anutkased/dev/Exphormer/exphormer-env/lib/python3.10/site-packages/tqdm/auto.py:21: TqdmWarning: IProgress not found. Please update jupyter and ipywidgets. See https://ipywidgets.readthedocs.io/en/stable/user_install.html\n",
      "  from .autonotebook import tqdm as notebook_tqdm\n"
     ]
    }
   ],
   "source": [
    "from graphgps.loader.planetoid import Planetoid"
   ]
  },
  {
   "cell_type": "code",
   "execution_count": 15,
   "metadata": {},
   "outputs": [],
   "source": [
    "from graphgps.loader.planetoid import Planetoid\n",
    "dataset = Planetoid(\"dataset_\", \"Cora\", split='random', train_percent= 0.6)"
   ]
  },
  {
   "cell_type": "code",
   "execution_count": 7,
   "metadata": {},
   "outputs": [
    {
     "data": {
      "text/plain": [
       "tensor(1621)"
      ]
     },
     "execution_count": 7,
     "metadata": {},
     "output_type": "execute_result"
    }
   ],
   "source": [
    "dataset.data.train_mask.count_nonzero()"
   ]
  },
  {
   "cell_type": "code",
   "execution_count": 1,
   "metadata": {},
   "outputs": [
    {
     "name": "stderr",
     "output_type": "stream",
     "text": [
      "/home/anutkased/dev/Exphormer/exphormer-env/lib/python3.10/site-packages/tqdm/auto.py:21: TqdmWarning: IProgress not found. Please update jupyter and ipywidgets. See https://ipywidgets.readthedocs.io/en/stable/user_install.html\n",
      "  from .autonotebook import tqdm as notebook_tqdm\n"
     ]
    }
   ],
   "source": [
    "from ogb.nodeproppred import PygNodePropPredDataset\n",
    "\n",
    "dataset = PygNodePropPredDataset(name='ogbn-arxiv')"
   ]
  },
  {
   "cell_type": "code",
   "execution_count": 9,
   "metadata": {},
   "outputs": [
    {
     "data": {
      "text/plain": [
       "torch.Size([1621])"
      ]
     },
     "execution_count": 9,
     "metadata": {},
     "output_type": "execute_result"
    }
   ],
   "source": [
    "dataset.get_idx_split()['train'].size()"
   ]
  },
  {
   "cell_type": "code",
   "execution_count": 10,
   "metadata": {},
   "outputs": [
    {
     "name": "stderr",
     "output_type": "stream",
     "text": [
      " 16%|█▋        | 8/49 [00:15<01:20,  1.96s/it]\n"
     ]
    },
    {
     "ename": "KeyboardInterrupt",
     "evalue": "",
     "output_type": "error",
     "traceback": [
      "\u001b[0;31m---------------------------------------------------------------------------\u001b[0m",
      "\u001b[0;31mKeyboardInterrupt\u001b[0m                         Traceback (most recent call last)",
      "Cell \u001b[0;32mIn[10], line 10\u001b[0m\n\u001b[1;32m      8\u001b[0m \u001b[38;5;28;01mfor\u001b[39;00m j \u001b[38;5;129;01min\u001b[39;00m \u001b[38;5;28mrange\u001b[39m(\u001b[38;5;241m3\u001b[39m):\n\u001b[1;32m      9\u001b[0m     start \u001b[38;5;241m=\u001b[39m time\u001b[38;5;241m.\u001b[39mtime()\n\u001b[0;32m---> 10\u001b[0m     rw_landing \u001b[38;5;241m=\u001b[39m \u001b[43mget_rw_landing_probs\u001b[49m\u001b[43m(\u001b[49m\u001b[43mksteps\u001b[49m\u001b[38;5;241;43m=\u001b[39;49m\u001b[38;5;28;43mrange\u001b[39;49m\u001b[43m(\u001b[49m\u001b[38;5;241;43m0\u001b[39;49m\u001b[43m,\u001b[49m\u001b[43m \u001b[49m\u001b[43mi\u001b[49m\u001b[43m)\u001b[49m\u001b[43m,\u001b[49m\n\u001b[1;32m     11\u001b[0m \u001b[43m                                    \u001b[49m\u001b[43medge_index\u001b[49m\u001b[38;5;241;43m=\u001b[39;49m\u001b[43mdataset\u001b[49m\u001b[38;5;241;43m.\u001b[39;49m\u001b[43mdata\u001b[49m\u001b[38;5;241;43m.\u001b[39;49m\u001b[43medge_index\u001b[49m\u001b[43m,\u001b[49m\n\u001b[1;32m     12\u001b[0m \u001b[43m                                    \u001b[49m\u001b[43mnum_nodes\u001b[49m\u001b[38;5;241;43m=\u001b[39;49m\u001b[43mdataset\u001b[49m\u001b[38;5;241;43m.\u001b[39;49m\u001b[43mdata\u001b[49m\u001b[38;5;241;43m.\u001b[39;49m\u001b[43mnum_nodes\u001b[49m\u001b[43m)\u001b[49m\n\u001b[1;32m     13\u001b[0m     end \u001b[38;5;241m=\u001b[39m time\u001b[38;5;241m.\u001b[39mtime()\n\u001b[1;32m     14\u001b[0m     average \u001b[38;5;241m+\u001b[39m\u001b[38;5;241m=\u001b[39m (end \u001b[38;5;241m-\u001b[39m start)\n",
      "File \u001b[0;32m~/dev/Exphormer/graphgps/transform/posenc_stats.py:230\u001b[0m, in \u001b[0;36mget_rw_landing_probs\u001b[0;34m(ksteps, edge_index, edge_weight, num_nodes, space_dim)\u001b[0m\n\u001b[1;32m    227\u001b[0m \u001b[38;5;28;01melse\u001b[39;00m:\n\u001b[1;32m    228\u001b[0m     \u001b[38;5;66;03m# Explicitly raising P to power k for each k \\in ksteps.\u001b[39;00m\n\u001b[1;32m    229\u001b[0m     \u001b[38;5;28;01mfor\u001b[39;00m k \u001b[38;5;129;01min\u001b[39;00m ksteps:\n\u001b[0;32m--> 230\u001b[0m         rws\u001b[38;5;241m.\u001b[39mappend(torch\u001b[38;5;241m.\u001b[39mdiagonal(\u001b[43mP\u001b[49m\u001b[38;5;241;43m.\u001b[39;49m\u001b[43mmatrix_power\u001b[49m\u001b[43m(\u001b[49m\u001b[43mk\u001b[49m\u001b[43m)\u001b[49m, dim1\u001b[38;5;241m=\u001b[39m\u001b[38;5;241m-\u001b[39m\u001b[38;5;241m2\u001b[39m, dim2\u001b[38;5;241m=\u001b[39m\u001b[38;5;241m-\u001b[39m\u001b[38;5;241m1\u001b[39m) \u001b[38;5;241m*\u001b[39m \\\n\u001b[1;32m    231\u001b[0m                    (k \u001b[38;5;241m*\u001b[39m\u001b[38;5;241m*\u001b[39m (space_dim \u001b[38;5;241m/\u001b[39m \u001b[38;5;241m2\u001b[39m)))\n\u001b[1;32m    232\u001b[0m rw_landing \u001b[38;5;241m=\u001b[39m torch\u001b[38;5;241m.\u001b[39mcat(rws, dim\u001b[38;5;241m=\u001b[39m\u001b[38;5;241m0\u001b[39m)\u001b[38;5;241m.\u001b[39mtranspose(\u001b[38;5;241m0\u001b[39m, \u001b[38;5;241m1\u001b[39m)  \u001b[38;5;66;03m# (Num nodes) x (K steps)\u001b[39;00m\n\u001b[1;32m    234\u001b[0m \u001b[38;5;28;01mreturn\u001b[39;00m rw_landing\n",
      "\u001b[0;31mKeyboardInterrupt\u001b[0m: "
     ]
    }
   ],
   "source": [
    "from graphgps.transform.posenc_stats import get_rw_landing_probs\n",
    "import time\n",
    "import tqdm\n",
    "\n",
    "i_to_time = {}\n",
    "for i in tqdm.tqdm(range(1, 50)):\n",
    "    average = 0\n",
    "    for j in range(3):\n",
    "        start = time.time()\n",
    "        rw_landing = get_rw_landing_probs(ksteps=range(0, i),\n",
    "                                        edge_index=dataset.data.edge_index,\n",
    "                                        num_nodes=dataset.data.num_nodes)\n",
    "        end = time.time()\n",
    "        average += (end - start)\n",
    "\n",
    "    i_to_time[i] = average / 3\n",
    "\n"
   ]
  },
  {
   "cell_type": "code",
   "execution_count": 2,
   "metadata": {},
   "outputs": [],
   "source": [
    "from torch_geometric.graphgym.config import (cfg, dump_cfg,\n",
    "                                             set_cfg, load_cfg,\n",
    "                                             makedirs_rm_exist)\n",
    "from graphgps.config.posenc_config import set_cfg_posenc\n",
    "\n",
    "set_cfg(cfg)\n",
    "\n",
    "#add cfg of node2vec\n",
    "set_cfg_posenc(cfg)\n",
    "cfg.posenc_Node2Vec.p = 1\n",
    "cfg.posenc_Node2Vec.q = 1\n",
    "\n",
    "cfg.posenc_Node2Vec.num_walks = 10\n",
    "cfg.posenc_Node2Vec.walk_length = 80\n",
    "\n",
    "cfg.posenc_Node2Vec.window_size = 10\n",
    "cfg.posenc_Node2Vec.iter = 1"
   ]
  },
  {
   "cell_type": "code",
   "execution_count": null,
   "metadata": {},
   "outputs": [],
   "source": [
    "d"
   ]
  },
  {
   "cell_type": "code",
   "execution_count": 3,
   "metadata": {},
   "outputs": [
    {
     "name": "stderr",
     "output_type": "stream",
     "text": [
      "/home/anutkased/dev/Exphormer/exphormer-env/lib/python3.10/site-packages/torch_geometric/data/in_memory_dataset.py:300: UserWarning: It is not recommended to directly access the internal storage format `data` of an 'InMemoryDataset'. If you are absolutely certain what you are doing, access the internal storage via `InMemoryDataset._data` instead to suppress this warning. Alternatively, you can access stacked individual attributes of every graph via `dataset.{attr_name}`.\n",
      "  warnings.warn(msg)\n"
     ]
    },
    {
     "ename": "",
     "evalue": "",
     "output_type": "error",
     "traceback": [
      "\u001b[1;31mThe Kernel crashed while executing code in the current cell or a previous cell. \n",
      "\u001b[1;31mPlease review the code in the cell(s) to identify a possible cause of the failure. \n",
      "\u001b[1;31mClick <a href='https://aka.ms/vscodeJupyterKernelCrash'>here</a> for more info. \n",
      "\u001b[1;31mView Jupyter <a href='command:jupyter.viewOutput'>log</a> for further details."
     ]
    }
   ],
   "source": [
    "from graphgps.transform.posenc_stats import learn_embeddings\n",
    "embeddings = learn_embeddings(dataset.data, cfg)"
   ]
  },
  {
   "cell_type": "code",
   "execution_count": 12,
   "metadata": {},
   "outputs": [
    {
     "name": "stderr",
     "output_type": "stream",
     "text": [
      "  0%|          | 0/49 [00:00<?, ?it/s]\n"
     ]
    },
    {
     "ename": "NameError",
     "evalue": "name 'data' is not defined",
     "output_type": "error",
     "traceback": [
      "\u001b[0;31m---------------------------------------------------------------------------\u001b[0m",
      "\u001b[0;31mNameError\u001b[0m                                 Traceback (most recent call last)",
      "Cell \u001b[0;32mIn[12], line 12\u001b[0m\n\u001b[1;32m     10\u001b[0m \u001b[38;5;28;01mfor\u001b[39;00m j \u001b[38;5;129;01min\u001b[39;00m \u001b[38;5;28mrange\u001b[39m(\u001b[38;5;241m3\u001b[39m):\n\u001b[1;32m     11\u001b[0m     start \u001b[38;5;241m=\u001b[39m time\u001b[38;5;241m.\u001b[39mtime()\n\u001b[0;32m---> 12\u001b[0m     embeddings \u001b[38;5;241m=\u001b[39m learn_embeddings(\u001b[43mdata\u001b[49m, cfg)\n\u001b[1;32m     13\u001b[0m     end \u001b[38;5;241m=\u001b[39m time\u001b[38;5;241m.\u001b[39mtime()\n\u001b[1;32m     15\u001b[0m i_to_time[i] \u001b[38;5;241m=\u001b[39m average \u001b[38;5;241m/\u001b[39m \u001b[38;5;241m3\u001b[39m\n",
      "\u001b[0;31mNameError\u001b[0m: name 'data' is not defined"
     ]
    }
   ],
   "source": [
    "from graphgps.transform.posenc_stats import learn_embeddings\n",
    "import time\n",
    "import tqdm\n",
    "\n",
    "\n",
    "i_to_time = {}\n",
    "\n",
    "for i in tqdm.tqdm(range(1, 50)):\n",
    "    average = 0\n",
    "    for j in range(3):\n",
    "        start = time.time()\n",
    "        embeddings = learn_embeddings(data, cfg)\n",
    "        end = time.time()\n",
    "\n",
    "    i_to_time[i] = average / 3"
   ]
  },
  {
   "cell_type": "code",
   "execution_count": 13,
   "metadata": {},
   "outputs": [
    {
     "data": {
      "text/plain": [
       "{}"
      ]
     },
     "execution_count": 13,
     "metadata": {},
     "output_type": "execute_result"
    }
   ],
   "source": [
    "i_to_time"
   ]
  },
  {
   "cell_type": "code",
   "execution_count": 14,
   "metadata": {},
   "outputs": [],
   "source": [
    "import torch\n",
    "\n",
    "nodes = torch.tensor(list(range(0, 169343)), dtype=int)"
   ]
  },
  {
   "cell_type": "code",
   "execution_count": null,
   "metadata": {},
   "outputs": [],
   "source": [
    "import numpy as np"
   ]
  },
  {
   "cell_type": "code",
   "execution_count": null,
   "metadata": {},
   "outputs": [
    {
     "data": {
      "text/plain": [
       "torch.Size([2, 1166243])"
      ]
     },
     "execution_count": 22,
     "metadata": {},
     "output_type": "execute_result"
    }
   ],
   "source": [
    "edges.shape"
   ]
  },
  {
   "cell_type": "code",
   "execution_count": null,
   "metadata": {},
   "outputs": [],
   "source": [
    "x = np.random.choice(nodes, size=100, replace=False)"
   ]
  },
  {
   "cell_type": "code",
   "execution_count": null,
   "metadata": {},
   "outputs": [
    {
     "data": {
      "text/plain": [
       "array([110211,  68794,  32921, 128027, 152470, 117434,  66854,  92533,\n",
       "       100872,  58478, 108009, 116833,  22994,  91130,  84021, 139442,\n",
       "        87051,  18044, 102977,   5932, 149041,  22741,  64481, 156627,\n",
       "       164359,  38624,   7056,  71373,  20523, 149542, 109290, 152832,\n",
       "        49220,  38874, 148059, 152440,  30422,  17336,  82806,  71624,\n",
       "       119486,  41060, 161640,  81700, 107998,  23289, 161037,  37387,\n",
       "       148826,  61946,  76067, 113303,  97929,  87092, 131164,  91726,\n",
       "        17981, 147997,  66749, 131437,  68043, 128612, 155500,  47876,\n",
       "       101390, 116262,  25874, 160828, 145391, 122753,  22198, 102297,\n",
       "        37668, 125594,  26084,   4266,  26634,  27894, 120642, 135262,\n",
       "       121768,  41644,  68393,  30522,  83583,  97308,  25149,  53662,\n",
       "       137938,  66580,  88769, 110767,  70012,  54502,  72370,  25091,\n",
       "        83059,  40015, 147952,  11819])"
      ]
     },
     "execution_count": 20,
     "metadata": {},
     "output_type": "execute_result"
    }
   ],
   "source": [
    "x"
   ]
  },
  {
   "cell_type": "code",
   "execution_count": null,
   "metadata": {},
   "outputs": [],
   "source": [
    "for i in range(edges.shape[1]):\n",
    "    if edges[0][i] in x and edges[1][i] in x:\n",
    "        print(\"here\")"
   ]
  },
  {
   "cell_type": "code",
   "execution_count": null,
   "metadata": {},
   "outputs": [
    {
     "name": "stderr",
     "output_type": "stream",
     "text": [
      "/home/anutkased/dev/Exphormer/exphormer-env/lib/python3.10/site-packages/torch_geometric/data/in_memory_dataset.py:300: UserWarning: It is not recommended to directly access the internal storage format `data` of an 'InMemoryDataset'. If you are absolutely certain what you are doing, access the internal storage via `InMemoryDataset._data` instead to suppress this warning. Alternatively, you can access stacked individual attributes of every graph via `dataset.{attr_name}`.\n",
      "  warnings.warn(msg)\n"
     ]
    }
   ],
   "source": [
    "edges = dataset.data.edge_index"
   ]
  },
  {
   "cell_type": "code",
   "execution_count": null,
   "metadata": {},
   "outputs": [
    {
     "data": {
      "text/plain": [
       "torch.Size([2, 1166243])"
      ]
     },
     "execution_count": 18,
     "metadata": {},
     "output_type": "execute_result"
    }
   ],
   "source": [
    "edges.shape"
   ]
  },
  {
   "cell_type": "code",
   "execution_count": null,
   "metadata": {},
   "outputs": [
    {
     "data": {
      "text/plain": [
       "tensor([ 13091,  47283,  69161,  ..., 162473, 162537,  72717])"
      ]
     },
     "execution_count": 5,
     "metadata": {},
     "output_type": "execute_result"
    }
   ],
   "source": [
    "edges[1, :]"
   ]
  },
  {
   "cell_type": "code",
   "execution_count": null,
   "metadata": {},
   "outputs": [
    {
     "ename": "KeyboardInterrupt",
     "evalue": "",
     "output_type": "error",
     "traceback": [
      "\u001b[0;31m---------------------------------------------------------------------------\u001b[0m",
      "\u001b[0;31mKeyboardInterrupt\u001b[0m                         Traceback (most recent call last)",
      "Cell \u001b[0;32mIn[6], line 4\u001b[0m\n\u001b[1;32m      2\u001b[0m \u001b[38;5;28;01mfor\u001b[39;00m i \u001b[38;5;129;01min\u001b[39;00m \u001b[38;5;28mrange\u001b[39m(\u001b[38;5;241m169343\u001b[39m):\n\u001b[1;32m      3\u001b[0m     deg \u001b[38;5;241m=\u001b[39m edges[\u001b[38;5;241m1\u001b[39m][edges[\u001b[38;5;241m1\u001b[39m, :] \u001b[38;5;241m==\u001b[39m i]\u001b[38;5;241m.\u001b[39mshape\n\u001b[0;32m----> 4\u001b[0m     \u001b[43mdegs\u001b[49m\u001b[38;5;241;43m.\u001b[39;49m\u001b[43mappend\u001b[49m\u001b[43m(\u001b[49m\u001b[43mdeg\u001b[49m\u001b[43m)\u001b[49m\n",
      "\u001b[0;31mKeyboardInterrupt\u001b[0m: "
     ]
    }
   ],
   "source": [
    "degs = []\n",
    "for i in range(169343):\n",
    "    deg = edges[1][edges[1, :] == i].shape\n",
    "    degs.append(deg)"
   ]
  },
  {
   "cell_type": "code",
   "execution_count": null,
   "metadata": {},
   "outputs": [
    {
     "data": {
      "text/plain": [
       "torch.Size([13155])"
      ]
     },
     "execution_count": 24,
     "metadata": {},
     "output_type": "execute_result"
    }
   ],
   "source": [
    "max(degs)"
   ]
  },
  {
   "cell_type": "code",
   "execution_count": null,
   "metadata": {},
   "outputs": [
    {
     "name": "stderr",
     "output_type": "stream",
     "text": [
      "/home/anutkased/dev/Exphormer/exphormer-env/lib/python3.10/site-packages/torch_geometric/data/in_memory_dataset.py:300: UserWarning: It is not recommended to directly access the internal storage format `data` of an 'InMemoryDataset'. If you are absolutely certain what you are doing, access the internal storage via `InMemoryDataset._data` instead to suppress this warning. Alternatively, you can access stacked individual attributes of every graph via `dataset.{attr_name}`.\n",
      "  warnings.warn(msg)\n"
     ]
    },
    {
     "data": {
      "text/plain": [
       "tensor([ True,  True,  True,  ...,  True,  True, False])"
      ]
     },
     "execution_count": 3,
     "metadata": {},
     "output_type": "execute_result"
    }
   ],
   "source": [
    "dataset.data.train_mask"
   ]
  },
  {
   "cell_type": "code",
   "execution_count": null,
   "metadata": {},
   "outputs": [],
   "source": []
  },
  {
   "cell_type": "code",
   "execution_count": 17,
   "metadata": {},
   "outputs": [],
   "source": [
    "from torch_geometric.graphgym.config import (cfg, dump_cfg,\n",
    "                                             set_cfg, load_cfg,\n",
    "                                             makedirs_rm_exist)\n",
    "from graphgps.config.posenc_config import set_cfg_posenc\n",
    "\n",
    "set_cfg(cfg)\n",
    "\n",
    "#add cfg of node2vec\n",
    "set_cfg_posenc(cfg)\n",
    "cfg.posenc_Node2Vec.p = 1\n",
    "cfg.posenc_Node2Vec.q = 1\n",
    "\n",
    "cfg.posenc_Node2Vec.num_walks = 1\n",
    "cfg.posenc_Node2Vec.walk_length = 80\n",
    "\n",
    "cfg.posenc_Node2Vec.window_size = 10\n",
    "cfg.posenc_Node2Vec.iter = 1\n"
   ]
  },
  {
   "cell_type": "code",
   "execution_count": 18,
   "metadata": {},
   "outputs": [
    {
     "data": {
      "text/plain": [
       "torch.Size([2, 10556])"
      ]
     },
     "execution_count": 18,
     "metadata": {},
     "output_type": "execute_result"
    }
   ],
   "source": [
    "dataset.data.edge_index.shape"
   ]
  },
  {
   "cell_type": "code",
   "execution_count": 19,
   "metadata": {},
   "outputs": [],
   "source": [
    "edge_index = torch.tensor([[0, 1], [1, 2], [1, 3], [2, 3]]).reshape(2, -1)"
   ]
  },
  {
   "cell_type": "code",
   "execution_count": 20,
   "metadata": {},
   "outputs": [],
   "source": [
    "from torch_geometric.nn import Node2Vec\n",
    "import torch\n",
    "\n",
    "device = 'cuda' if torch.cuda.is_available() else 'cpu'\n",
    "model = Node2Vec(\n",
    "    dataset.data.edge_index,\n",
    "    embedding_dim=cfg.posenc_Node2Vec.dim_pe,\n",
    "    walk_length=80,\n",
    "    context_size=80,\n",
    "    walks_per_node=10,\n",
    "    num_negative_samples=0,\n",
    "    p=cfg.posenc_Node2Vec.p,\n",
    "    q=cfg.posenc_Node2Vec.q,\n",
    "    sparse=True,\n",
    ").to(device)\n"
   ]
  },
  {
   "cell_type": "code",
   "execution_count": 25,
   "metadata": {},
   "outputs": [
    {
     "name": "stdout",
     "output_type": "stream",
     "text": [
      "torch.Size([1280, 80])\n",
      "torch.Size([1280, 80])\n",
      "torch.Size([1280, 80])\n",
      "torch.Size([1280, 80])\n",
      "torch.Size([1280, 80])\n",
      "torch.Size([1280, 80])\n",
      "torch.Size([1280, 80])\n",
      "torch.Size([1280, 80])\n",
      "torch.Size([1280, 80])\n",
      "torch.Size([1280, 80])\n",
      "torch.Size([1280, 80])\n",
      "torch.Size([1280, 80])\n",
      "torch.Size([1280, 80])\n",
      "torch.Size([1280, 80])\n",
      "torch.Size([1280, 80])\n",
      "torch.Size([1280, 80])\n",
      "torch.Size([1280, 80])\n",
      "torch.Size([1280, 80])\n",
      "torch.Size([1280, 80])\n",
      "torch.Size([1280, 80])\n",
      "torch.Size([1280, 80])\n",
      "torch.Size([200, 80])\n"
     ]
    }
   ],
   "source": [
    "loader = model.loader(batch_size=128, shuffle=True, num_workers=cfg.num_workers)\n",
    "# \toptimizer = torch.optim.Adam(list(model.parameters()), lr=0.025)\n",
    "# \t# scheduler = torch.optim.lr_scheduler.LinearLR(optimizer, start_factor=1.0,  end_factor=0.0001/0.025, total_iters=len(loader))\n",
    "# \ttotal_loss = 0\n",
    "# \tprint( cfg.accelerator)\n",
    "for pos_rw, neg_rw in loader:\n",
    "\t    print(pos_rw.shape)"
   ]
  },
  {
   "cell_type": "code",
   "execution_count": 65,
   "metadata": {},
   "outputs": [],
   "source": [
    "# from torch_geometric.nn import Node2Vec\n",
    "# import torch\n",
    "\n",
    "# device = 'cuda' if torch.cuda.is_available() else 'cpu'\n",
    "# model = Node2Vec(\n",
    "#     dataset.data.edge_index,\n",
    "#     embedding_dim=cfg.posenc_Node2Vec.dim_pe,\n",
    "#     walk_length=cfg.posenc_Node2Vec.walk_length,\n",
    "#     context_size=cfg.posenc_Node2Vec.window_size,\n",
    "#     walks_per_node=cfg.posenc_Node2Vec.num_walks,\n",
    "#     num_negative_samples=1,\n",
    "#     p=cfg.posenc_Node2Vec.p,\n",
    "#     q=cfg.posenc_Node2Vec.q,\n",
    "#     sparse=True,\n",
    "# ).to(device)\n"
   ]
  },
  {
   "cell_type": "code",
   "execution_count": 69,
   "metadata": {},
   "outputs": [],
   "source": [
    "loader = model.loader()"
   ]
  },
  {
   "cell_type": "code",
   "execution_count": 72,
   "metadata": {},
   "outputs": [
    {
     "name": "stderr",
     "output_type": "stream",
     "text": [
      "/home/anutkased/dev/Exphormer/exphormer-env/lib/python3.10/site-packages/torch_geometric/data/in_memory_dataset.py:300: UserWarning: It is not recommended to directly access the internal storage format `data` of an 'InMemoryDataset'. If you are absolutely certain what you are doing, access the internal storage via `InMemoryDataset._data` instead to suppress this warning. Alternatively, you can access stacked individual attributes of every graph via `dataset.{attr_name}`.\n",
      "  warnings.warn(msg)\n"
     ]
    },
    {
     "data": {
      "text/plain": [
       "Data(num_nodes=169343, edge_index=[2, 1166243], x=[169343, 128], node_year=[169343, 1], y=[169343, 1])"
      ]
     },
     "execution_count": 72,
     "metadata": {},
     "output_type": "execute_result"
    }
   ],
   "source": [
    "dataset.data.num_nodes"
   ]
  },
  {
   "cell_type": "code",
   "execution_count": 74,
   "metadata": {},
   "outputs": [
    {
     "name": "stderr",
     "output_type": "stream",
     "text": [
      "/home/anutkased/dev/Exphormer/exphormer-env/lib/python3.10/site-packages/torch_geometric/data/in_memory_dataset.py:300: UserWarning: It is not recommended to directly access the internal storage format `data` of an 'InMemoryDataset'. If you are absolutely certain what you are doing, access the internal storage via `InMemoryDataset._data` instead to suppress this warning. Alternatively, you can access stacked individual attributes of every graph via `dataset.{attr_name}`.\n",
      "  warnings.warn(msg)\n"
     ]
    }
   ],
   "source": [
    "from torch_geometric.utils import sort_edge_index\n",
    "sorted_edges = sort_edge_index(dataset.data.edge_index, num_nodes=dataset.data.num_nodes).cpu()"
   ]
  },
  {
   "cell_type": "code",
   "execution_count": 75,
   "metadata": {},
   "outputs": [
    {
     "data": {
      "text/plain": [
       "tensor([[     0,      0,      1,  ..., 169341, 169342, 169342],\n",
       "        [ 52893,  93487, 141692,  ..., 163274,  27824, 158981]])"
      ]
     },
     "execution_count": 75,
     "metadata": {},
     "output_type": "execute_result"
    }
   ],
   "source": [
    "sorted_edges"
   ]
  },
  {
   "cell_type": "code",
   "execution_count": 77,
   "metadata": {},
   "outputs": [
    {
     "name": "stdout",
     "output_type": "stream",
     "text": [
      "torch.Size([10, 80])\n"
     ]
    }
   ],
   "source": [
    "for data in loader:\n",
    "    corpus = data[0]\n",
    "    print(corpus.shape)\n",
    "    break\n"
   ]
  },
  {
   "cell_type": "code",
   "execution_count": 26,
   "metadata": {},
   "outputs": [],
   "source": [
    "iterator = iter(loader)"
   ]
  },
  {
   "cell_type": "code",
   "execution_count": 27,
   "metadata": {},
   "outputs": [
    {
     "data": {
      "text/plain": [
       "(tensor([[    0, 52893, 14528,  ..., 71730, 71730, 71730],\n",
       "         [    0, 52893, 14528,  ..., 71730, 71730, 71730],\n",
       "         [    0, 52893, 14528,  ..., 71730, 71730, 71730],\n",
       "         ...,\n",
       "         [71730, 71730, 71730,  ..., 71730, 71730, 71730],\n",
       "         [71730, 71730, 71730,  ..., 71730, 71730, 71730],\n",
       "         [93487, 93487, 93487,  ..., 93487, 93487, 93487]]),\n",
       " tensor([[     0, 144003, 116616,  ..., 167111,  42413, 117982],\n",
       "         [     0,    369, 115699,  ..., 164631,  81192,  32109],\n",
       "         [     0,  20995, 101261,  ...,  85465, 143914, 100441],\n",
       "         ...,\n",
       "         [ 43046, 125795,  35545,  ...,  49933,  89319,  37751],\n",
       "         [ 15627, 111171,  42132,  ..., 142038, 134800,   2284],\n",
       "         [ 61445, 101725, 114861,  ...,  87129, 148021,   2427]]))"
      ]
     },
     "execution_count": 27,
     "metadata": {},
     "output_type": "execute_result"
    }
   ],
   "source": [
    "next(iterator)"
   ]
  },
  {
   "cell_type": "code",
   "execution_count": 23,
   "metadata": {},
   "outputs": [
    {
     "name": "stdout",
     "output_type": "stream",
     "text": [
      "tensor([[    0, 52893, 71730,  ..., 71730, 71730, 71730],\n",
      "        [    0, 93487, 93487,  ..., 93487, 93487, 93487],\n",
      "        [    0, 93487, 93487,  ..., 93487, 93487, 93487],\n",
      "        ...,\n",
      "        [93487, 93487, 93487,  ..., 93487, 93487, 93487],\n",
      "        [93487, 93487, 93487,  ..., 93487, 93487, 93487],\n",
      "        [71730, 71730, 71730,  ..., 71730, 71730, 71730]])\n"
     ]
    }
   ],
   "source": [
    "\n",
    "for data in loader:\n",
    "    print(data[0]) \n",
    "    break"
   ]
  },
  {
   "cell_type": "code",
   "execution_count": 3,
   "metadata": {},
   "outputs": [
    {
     "name": "stderr",
     "output_type": "stream",
     "text": [
      "/home/anutkased/dev/Exphormer/exphormer-env/lib/python3.10/site-packages/torch_geometric/data/in_memory_dataset.py:300: UserWarning: It is not recommended to directly access the internal storage format `data` of an 'InMemoryDataset'. If you are absolutely certain what you are doing, access the internal storage via `InMemoryDataset._data` instead to suppress this warning. Alternatively, you can access stacked individual attributes of every graph via `dataset.{attr_name}`.\n",
      "  warnings.warn(msg)\n"
     ]
    },
    {
     "name": "stdout",
     "output_type": "stream",
     "text": [
      "here\n",
      "Processing nodes\n"
     ]
    },
    {
     "name": "stderr",
     "output_type": "stream",
     "text": [
      "100%|██████████| 169343/169343 [00:02<00:00, 84652.34it/s]\n"
     ]
    },
    {
     "name": "stdout",
     "output_type": "stream",
     "text": [
      "Processing edges\n"
     ]
    },
    {
     "name": "stderr",
     "output_type": "stream",
     "text": [
      "100%|██████████| 1157799/1157799 [13:03<00:00, 1477.76it/s]\n"
     ]
    },
    {
     "name": "stdout",
     "output_type": "stream",
     "text": [
      "here\n"
     ]
    },
    {
     "name": "stderr",
     "output_type": "stream",
     "text": [
      "  0%|          | 0/10 [00:00<?, ?it/s]"
     ]
    },
    {
     "name": "stdout",
     "output_type": "stream",
     "text": [
      "0\n"
     ]
    },
    {
     "name": "stderr",
     "output_type": "stream",
     "text": [
      "100%|██████████| 169343/169343 [05:30<00:00, 512.10it/s]\n",
      " 10%|█         | 1/10 [05:30<49:36, 330.72s/it]"
     ]
    },
    {
     "name": "stdout",
     "output_type": "stream",
     "text": [
      "1\n"
     ]
    },
    {
     "name": "stderr",
     "output_type": "stream",
     "text": [
      " 96%|█████████▌| 161825/169343 [05:16<00:14, 510.68it/s]\n",
      " 10%|█         | 1/10 [10:47<1:37:08, 647.65s/it]\n"
     ]
    },
    {
     "ename": "KeyboardInterrupt",
     "evalue": "",
     "output_type": "error",
     "traceback": [
      "\u001b[0;31m---------------------------------------------------------------------------\u001b[0m",
      "\u001b[0;31mKeyboardInterrupt\u001b[0m                         Traceback (most recent call last)",
      "Cell \u001b[0;32mIn[3], line 12\u001b[0m\n\u001b[1;32m      9\u001b[0m G\u001b[38;5;241m.\u001b[39mpreprocess_transition_probs()\n\u001b[1;32m     10\u001b[0m \u001b[38;5;28mprint\u001b[39m(\u001b[38;5;124m\"\u001b[39m\u001b[38;5;124mhere\u001b[39m\u001b[38;5;124m\"\u001b[39m)\n\u001b[0;32m---> 12\u001b[0m walks \u001b[38;5;241m=\u001b[39m \u001b[43mG\u001b[49m\u001b[38;5;241;43m.\u001b[39;49m\u001b[43msimulate_walks\u001b[49m\u001b[43m(\u001b[49m\u001b[43mcfg\u001b[49m\u001b[38;5;241;43m.\u001b[39;49m\u001b[43mposenc_Node2Vec\u001b[49m\u001b[38;5;241;43m.\u001b[39;49m\u001b[43mnum_walks\u001b[49m\u001b[43m,\u001b[49m\u001b[43m \u001b[49m\u001b[43mcfg\u001b[49m\u001b[38;5;241;43m.\u001b[39;49m\u001b[43mposenc_Node2Vec\u001b[49m\u001b[38;5;241;43m.\u001b[39;49m\u001b[43mwalk_length\u001b[49m\u001b[43m)\u001b[49m\n",
      "File \u001b[0;32m~/dev/Exphormer/graphgps/transform/node_to_vec.py:55\u001b[0m, in \u001b[0;36mGraph.simulate_walks\u001b[0;34m(self, num_walks, walk_length)\u001b[0m\n\u001b[1;32m     53\u001b[0m \trandom\u001b[38;5;241m.\u001b[39mshuffle(nodes)\n\u001b[1;32m     54\u001b[0m \t\u001b[38;5;28;01mfor\u001b[39;00m node \u001b[38;5;129;01min\u001b[39;00m tqdm(nodes):\n\u001b[0;32m---> 55\u001b[0m \t\twalks\u001b[38;5;241m.\u001b[39mappend(\u001b[38;5;28;43mself\u001b[39;49m\u001b[38;5;241;43m.\u001b[39;49m\u001b[43mnode2vec_walk\u001b[49m\u001b[43m(\u001b[49m\u001b[43mwalk_length\u001b[49m\u001b[38;5;241;43m=\u001b[39;49m\u001b[43mwalk_length\u001b[49m\u001b[43m,\u001b[49m\u001b[43m \u001b[49m\u001b[43mstart_node\u001b[49m\u001b[38;5;241;43m=\u001b[39;49m\u001b[43mnode\u001b[49m\u001b[43m)\u001b[49m)\n\u001b[1;32m     57\u001b[0m \u001b[38;5;28;01mreturn\u001b[39;00m walks\n",
      "File \u001b[0;32m~/dev/Exphormer/graphgps/transform/node_to_vec.py:30\u001b[0m, in \u001b[0;36mGraph.node2vec_walk\u001b[0;34m(self, walk_length, start_node)\u001b[0m\n\u001b[1;32m     28\u001b[0m \u001b[38;5;28;01mwhile\u001b[39;00m \u001b[38;5;28mlen\u001b[39m(walk) \u001b[38;5;241m<\u001b[39m walk_length:\n\u001b[1;32m     29\u001b[0m \tcur \u001b[38;5;241m=\u001b[39m walk[\u001b[38;5;241m-\u001b[39m\u001b[38;5;241m1\u001b[39m]\n\u001b[0;32m---> 30\u001b[0m \tcur_nbrs \u001b[38;5;241m=\u001b[39m \u001b[38;5;28;43msorted\u001b[39;49m\u001b[43m(\u001b[49m\u001b[43mG\u001b[49m\u001b[38;5;241;43m.\u001b[39;49m\u001b[43mneighbors\u001b[49m\u001b[43m(\u001b[49m\u001b[43mcur\u001b[49m\u001b[43m)\u001b[49m\u001b[43m)\u001b[49m\n\u001b[1;32m     31\u001b[0m \t\u001b[38;5;28;01mif\u001b[39;00m \u001b[38;5;28mlen\u001b[39m(cur_nbrs) \u001b[38;5;241m>\u001b[39m \u001b[38;5;241m0\u001b[39m:\n\u001b[1;32m     32\u001b[0m \t\t\u001b[38;5;28;01mif\u001b[39;00m \u001b[38;5;28mlen\u001b[39m(walk) \u001b[38;5;241m==\u001b[39m \u001b[38;5;241m1\u001b[39m:\n",
      "\u001b[0;31mKeyboardInterrupt\u001b[0m: "
     ]
    }
   ],
   "source": [
    "from graphgps.transform.node_to_vec import * \t\n",
    "logging.disable()\n",
    "nx_data = to_networkx(dataset.data, to_undirected=True)\n",
    "for edge in nx_data.edges():\n",
    "        nx_data[edge[0]][edge[1]]['weight'] = 1\n",
    "\n",
    "G = Graph(nx_G=nx_data, is_directed=False, p=cfg.posenc_Node2Vec.p, q=cfg.posenc_Node2Vec.q)\n",
    "print(\"here\")\n",
    "G.preprocess_transition_probs()\n",
    "print(\"here\")\n",
    "\n",
    "walks = G.simulate_walks(cfg.posenc_Node2Vec.num_walks, cfg.posenc_Node2Vec.walk_length)"
   ]
  },
  {
   "cell_type": "code",
   "execution_count": 43,
   "metadata": {},
   "outputs": [],
   "source": [
    "walk_lens = [len(walk) for walk in walks]"
   ]
  },
  {
   "cell_type": "code",
   "execution_count": 44,
   "metadata": {},
   "outputs": [
    {
     "data": {
      "text/plain": [
       "<Axes: ylabel='Count'>"
      ]
     },
     "execution_count": 44,
     "metadata": {},
     "output_type": "execute_result"
    },
    {
     "data": {
      "image/png": "[encoded data removed]",
      "text/plain": [
       "<Figure size 640x480 with 1 Axes>"
      ]
     },
     "metadata": {},
     "output_type": "display_data"
    }
   ],
   "source": [
    "import seaborn as sns\n",
    "\n",
    "sns.histplot(walk_lens)"
   ]
  },
  {
   "cell_type": "code",
   "execution_count": 9,
   "metadata": {},
   "outputs": [
    {
     "ename": "ValueError",
     "evalue": "expected sequence of length 5 at dim 1 (got 10)",
     "output_type": "error",
     "traceback": [
      "\u001b[0;31m---------------------------------------------------------------------------\u001b[0m",
      "\u001b[0;31mValueError\u001b[0m                                Traceback (most recent call last)",
      "Cell \u001b[0;32mIn[9], line 1\u001b[0m\n\u001b[0;32m----> 1\u001b[0m walks \u001b[38;5;241m=\u001b[39m \u001b[43mtorch\u001b[49m\u001b[38;5;241;43m.\u001b[39;49m\u001b[43mTensor\u001b[49m\u001b[43m(\u001b[49m\u001b[43mwalks\u001b[49m\u001b[43m)\u001b[49m\n\u001b[1;32m      2\u001b[0m walk \u001b[38;5;241m=\u001b[39m walks[\u001b[38;5;241m0\u001b[39m]\n",
      "\u001b[0;31mValueError\u001b[0m: expected sequence of length 5 at dim 1 (got 10)"
     ]
    }
   ],
   "source": [
    "walks = torch.Tensor(walks)\n",
    "walk = walks[0]"
   ]
  },
  {
   "cell_type": "code",
   "execution_count": 24,
   "metadata": {},
   "outputs": [
    {
     "ename": "RuntimeError",
     "evalue": "maximum size for tensor at dimension 1 is 3 but size is 5",
     "output_type": "error",
     "traceback": [
      "\u001b[0;31m---------------------------------------------------------------------------\u001b[0m",
      "\u001b[0;31mRuntimeError\u001b[0m                              Traceback (most recent call last)",
      "Cell \u001b[0;32mIn[24], line 2\u001b[0m\n\u001b[1;32m      1\u001b[0m x \u001b[38;5;241m=\u001b[39m torch\u001b[38;5;241m.\u001b[39mtensor([[\u001b[38;5;241m1\u001b[39m, \u001b[38;5;241m1\u001b[39m, \u001b[38;5;241m1\u001b[39m]])\n\u001b[0;32m----> 2\u001b[0m \u001b[43mx\u001b[49m\u001b[38;5;241;43m.\u001b[39;49m\u001b[43munfold\u001b[49m\u001b[43m(\u001b[49m\u001b[38;5;241;43m1\u001b[39;49m\u001b[43m,\u001b[49m\u001b[43m \u001b[49m\u001b[38;5;241;43m5\u001b[39;49m\u001b[43m,\u001b[49m\u001b[43m \u001b[49m\u001b[38;5;241;43m1\u001b[39;49m\u001b[43m)\u001b[49m\n",
      "\u001b[0;31mRuntimeError\u001b[0m: maximum size for tensor at dimension 1 is 3 but size is 5"
     ]
    }
   ],
   "source": [
    "x = torch.tensor([[1, 1, 1]])\n",
    "x.unfold(1, 5, 1)"
   ]
  },
  {
   "cell_type": "code",
   "execution_count": 20,
   "metadata": {},
   "outputs": [
    {
     "data": {
      "text/plain": [
       "tensor([[[1402., 1482., 1973.,  ...,  279., 1195.,  270.],\n",
       "         [1482., 1973., 1976.,  ..., 1195.,  270., 1215.],\n",
       "         [1973., 1976.,  502.,  ...,  270., 1215., 1894.],\n",
       "         ...,\n",
       "         [ 120.,  483.,  120.,  ...,  490., 2105.,  517.],\n",
       "         [ 483.,  120.,  816.,  ..., 2105.,  517., 2105.],\n",
       "         [ 120.,  816.,  483.,  ...,  517., 2105.,  490.]],\n",
       "\n",
       "        [[1594.,   31., 1594.,  ...,   31., 1594.,   31.],\n",
       "         [  31., 1594.,   31.,  ..., 1594.,   31., 1594.],\n",
       "         [1594.,   31., 1594.,  ...,   31., 1594.,   31.],\n",
       "         ...,\n",
       "         [1594.,   31., 1594.,  ...,   31., 1594.,   31.],\n",
       "         [  31., 1594.,   31.,  ..., 1594.,   31., 1594.],\n",
       "         [1594.,   31., 1594.,  ...,   31., 1594.,   31.]],\n",
       "\n",
       "        [[2017.,  815.,   55.,  ..., 1156.,  897., 1156.],\n",
       "         [ 815.,   55.,  771.,  ...,  897., 1156.,   65.],\n",
       "         [  55.,  771.,   65.,  ..., 1156.,   65.,  771.],\n",
       "         ...,\n",
       "         [ 155., 1358., 1752.,  ..., 1750., 1358., 1721.],\n",
       "         [1358., 1752., 1358.,  ..., 1358., 1721.,  228.],\n",
       "         [1752., 1358., 1040.,  ..., 1721.,  228., 1358.]],\n",
       "\n",
       "        ...,\n",
       "\n",
       "        [[1938., 1937., 1938.,  ..., 2138.,  598.,  165.],\n",
       "         [1937., 1938., 1937.,  ...,  598.,  165., 1473.],\n",
       "         [1938., 1937., 1938.,  ...,  165., 1473.,  598.],\n",
       "         ...,\n",
       "         [ 483., 2405.,  120.,  ..., 1131., 2281., 2405.],\n",
       "         [2405.,  120.,  816.,  ..., 2281., 2405., 1979.],\n",
       "         [ 120.,  816., 2282.,  ..., 2405., 1979.,  436.]],\n",
       "\n",
       "        [[ 160., 2000.,  160.,  ..., 1741., 1309., 2178.],\n",
       "         [2000.,  160.,  743.,  ..., 1309., 2178.,   76.],\n",
       "         [ 160.,  743.,   88.,  ..., 2178.,   76.,   88.],\n",
       "         ...,\n",
       "         [1909., 1131.,  510.,  ...,  519.,  109., 2095.],\n",
       "         [1131.,  510., 1013.,  ...,  109., 2095., 2145.],\n",
       "         [ 510., 1013.,  836.,  ..., 2095., 2145., 2144.]],\n",
       "\n",
       "        [[1485., 1914., 1539.,  ...,  604., 1914., 1485.],\n",
       "         [1914., 1539., 1914.,  ..., 1914., 1485., 1914.],\n",
       "         [1539., 1914., 1916.,  ..., 1485., 1914., 1079.],\n",
       "         ...,\n",
       "         [1955., 1956., 1226.,  ..., 1955., 2235., 1955.],\n",
       "         [1956., 1226., 1956.,  ..., 2235., 1955., 1956.],\n",
       "         [1226., 1956., 1226.,  ..., 1955., 1956.,  807.]]])"
      ]
     },
     "execution_count": 20,
     "metadata": {},
     "output_type": "execute_result"
    }
   ],
   "source": [
    "walks = walks.unfold(1, cfg.posenc_Node2Vec.window_size, 1)"
   ]
  },
  {
   "cell_type": "code",
   "execution_count": 8,
   "metadata": {},
   "outputs": [
    {
     "data": {
      "text/plain": [
       "(80, 80, 80)"
      ]
     },
     "execution_count": 8,
     "metadata": {},
     "output_type": "execute_result"
    }
   ],
   "source": [
    "len(walks[0]), len(walks[1]), len(walks[2])"
   ]
  },
  {
   "cell_type": "code",
   "execution_count": 9,
   "metadata": {},
   "outputs": [],
   "source": [
    "for i in range(len(walks)):\n",
    "    if len(walks[i]) != 80:\n",
    "        print(i)"
   ]
  },
  {
   "cell_type": "code",
   "execution_count": 58,
   "metadata": {},
   "outputs": [
    {
     "name": "stderr",
     "output_type": "stream",
     "text": [
      "/home/anutkased/dev/Exphormer/exphormer-env/lib/python3.10/site-packages/torch_geometric/data/in_memory_dataset.py:300: UserWarning: It is not recommended to directly access the internal storage format `data` of an 'InMemoryDataset'. If you are absolutely certain what you are doing, access the internal storage via `InMemoryDataset._data` instead to suppress this warning. Alternatively, you can access stacked individual attributes of every graph via `dataset.{attr_name}`.\n",
      "  warnings.warn(msg)\n"
     ]
    },
    {
     "data": {
      "text/plain": [
       "Data(x=[2708, 1433], edge_index=[2, 10556], y=[2708], train_mask=[2708], val_mask=[2708], test_mask=[2708])"
      ]
     },
     "execution_count": 58,
     "metadata": {},
     "output_type": "execute_result"
    }
   ],
   "source": [
    "dataset.data"
   ]
  },
  {
   "cell_type": "code",
   "execution_count": 59,
   "metadata": {},
   "outputs": [],
   "source": [
    "from graphgps.transform.node_to_vec import learn_embeddings\n",
    "\n",
    "x = learn_embeddings(dataset.data, cfg)"
   ]
  },
  {
   "cell_type": "code",
   "execution_count": 60,
   "metadata": {},
   "outputs": [
    {
     "data": {
      "text/plain": [
       "torch.Size([2708, 16])"
      ]
     },
     "execution_count": 60,
     "metadata": {},
     "output_type": "execute_result"
    }
   ],
   "source": [
    "x.shape"
   ]
  },
  {
   "cell_type": "code",
   "execution_count": 61,
   "metadata": {},
   "outputs": [
    {
     "data": {
      "text/plain": [
       "tensor([[ 0.0000,  0.0000,  0.0000,  ...,  0.0000,  0.0000,  0.0000],\n",
       "        [ 0.0213,  0.0047, -0.0837,  ..., -0.0656, -0.0166,  0.0055],\n",
       "        [ 0.0630, -0.0472, -0.0465,  ..., -0.0428, -0.0175,  0.0714],\n",
       "        ...,\n",
       "        [ 0.0177,  0.0027, -0.0152,  ..., -0.0732,  0.0384,  0.0187],\n",
       "        [-0.0579,  0.0480, -0.0078,  ..., -0.0047,  0.0400, -0.0072],\n",
       "        [ 0.0007, -0.0344,  0.0148,  ..., -0.0126,  0.0475,  0.0189]])"
      ]
     },
     "execution_count": 61,
     "metadata": {},
     "output_type": "execute_result"
    }
   ],
   "source": [
    "x - x[0, :].reshape(1, -1)"
   ]
  },
  {
   "cell_type": "code",
   "execution_count": 62,
   "metadata": {},
   "outputs": [],
   "source": [
    "import torch\n",
    "\n",
    "def norm_vecotors(x):\n",
    "    norms = torch.linalg.vector_norm(x, dim=1)\n",
    "    i = torch.argmin(norms)\n",
    "    x_normed = x - x[i, :].reshape(1, -1)\n",
    "    norms = torch.linalg.vector_norm(x_normed, dim=1)\n",
    "    j = torch.argmax(norms)\n",
    "    x_normed /= norms[j]\n",
    "    return x_normed"
   ]
  },
  {
   "cell_type": "code",
   "execution_count": 63,
   "metadata": {},
   "outputs": [],
   "source": [
    "normed_x = norm_vecotors(x)"
   ]
  },
  {
   "cell_type": "code",
   "execution_count": 66,
   "metadata": {},
   "outputs": [
    {
     "data": {
      "text/plain": [
       "tensor(1.0000)"
      ]
     },
     "execution_count": 66,
     "metadata": {},
     "output_type": "execute_result"
    }
   ],
   "source": []
  },
  {
   "cell_type": "code",
   "execution_count": null,
   "metadata": {},
   "outputs": [],
   "source": []
  },
  {
   "cell_type": "code",
   "execution_count": null,
   "metadata": {},
   "outputs": [],
   "source": []
  }
 ],
 "metadata": {
  "kernelspec": {
   "display_name": "exphormer",
   "language": "python",
   "name": "python3"
  },
  "language_info": {
   "codemirror_mode": {
    "name": "ipython",
    "version": 3
   },
   "file_extension": ".py",
   "mimetype": "text/x-python",
   "name": "python",
   "nbconvert_exporter": "python",
   "pygments_lexer": "ipython3",
   "version": "3.10.14"
  }
 },
 "nbformat": 4,
 "nbformat_minor": 2
}
